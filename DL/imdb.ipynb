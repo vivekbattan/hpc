{
 "cells": [
  {
   "cell_type": "code",
   "execution_count": 1,
   "metadata": {
    "executionInfo": {
     "elapsed": 11,
     "status": "ok",
     "timestamp": 1746290278566,
     "user": {
      "displayName": "Shashvat Khajuria",
      "userId": "12634928469428851504"
     },
     "user_tz": -330
    },
    "id": "IiBNx-P33EVg"
   },
   "outputs": [],
   "source": [
    "import numpy as np\n",
    "from sklearn.metrics import accuracy_score, classification_report, confusion_matrix, ConfusionMatrixDisplay\n",
    "import tensorflow as tf\n",
    "from tensorflow.keras.models import Sequential\n",
    "from tensorflow.keras.layers import Dense, Embedding, Flatten\n",
    "from tensorflow.keras.datasets import imdb\n",
    "from tensorflow.keras.preprocessing.sequence import pad_sequences"
   ]
  },
  {
   "cell_type": "code",
   "execution_count": 2,
   "metadata": {
    "executionInfo": {
     "elapsed": 14,
     "status": "ok",
     "timestamp": 1746289471540,
     "user": {
      "displayName": "Shashvat Khajuria",
      "userId": "12634928469428851504"
     },
     "user_tz": -330
    },
    "id": "RJDHFD6k9k9d"
   },
   "outputs": [],
   "source": [
    "vocab_size = 10000\n",
    "maxlen = 500\n",
    "embedding_dim = 32"
   ]
  },
  {
   "cell_type": "code",
   "execution_count": 3,
   "metadata": {
    "colab": {
     "base_uri": "https://localhost:8080/"
    },
    "executionInfo": {
     "elapsed": 6822,
     "status": "ok",
     "timestamp": 1746289631094,
     "user": {
      "displayName": "Shashvat Khajuria",
      "userId": "12634928469428851504"
     },
     "user_tz": -330
    },
    "id": "FwvXnM-O9q9X",
    "outputId": "8d03d32c-0165-40e2-de83-d36a2e11a824"
   },
   "outputs": [],
   "source": [
    "# Load Dataset\n",
    "(x_train,y_train), (x_test, y_test) = imdb.load_data(num_words = vocab_size)\n",
    "\n",
    "# Pad Sequences\n",
    "x_train = pad_sequences(x_train, maxlen = maxlen)\n",
    "x_test = pad_sequences(x_test, maxlen = maxlen)"
   ]
  },
  {
   "cell_type": "code",
   "execution_count": 4,
   "metadata": {
    "colab": {
     "base_uri": "https://localhost:8080/"
    },
    "executionInfo": {
     "elapsed": 74357,
     "status": "ok",
     "timestamp": 1746290056328,
     "user": {
      "displayName": "Shashvat Khajuria",
      "userId": "12634928469428851504"
     },
     "user_tz": -330
    },
    "id": "-lUkpKPE-QQZ",
    "outputId": "570c651d-b7c4-462c-be32-8762f05ab9fb"
   },
   "outputs": [
    {
     "name": "stdout",
     "output_type": "stream",
     "text": [
      "Epoch 1/5\n",
      "157/157 [==============================] - 6s 38ms/step - loss: 0.5274 - accuracy: 0.6994 - val_loss: 0.2960 - val_accuracy: 0.8808\n",
      "Epoch 2/5\n",
      "157/157 [==============================] - 6s 40ms/step - loss: 0.1748 - accuracy: 0.9344 - val_loss: 0.2878 - val_accuracy: 0.8866\n",
      "Epoch 3/5\n",
      "157/157 [==============================] - 6s 38ms/step - loss: 0.0444 - accuracy: 0.9905 - val_loss: 0.3373 - val_accuracy: 0.8842\n",
      "Epoch 4/5\n",
      "157/157 [==============================] - 6s 41ms/step - loss: 0.0104 - accuracy: 0.9991 - val_loss: 0.3910 - val_accuracy: 0.8800\n",
      "Epoch 5/5\n",
      "157/157 [==============================] - 6s 38ms/step - loss: 0.0032 - accuracy: 0.9998 - val_loss: 0.4174 - val_accuracy: 0.8812\n"
     ]
    },
    {
     "data": {
      "text/plain": [
       "<keras.src.callbacks.History at 0x1c82e5bfd90>"
      ]
     },
     "execution_count": 4,
     "metadata": {},
     "output_type": "execute_result"
    }
   ],
   "source": [
    "model = Sequential([\n",
    "    Embedding(vocab_size, embedding_dim, input_length = maxlen),\n",
    "    Flatten(),\n",
    "    Dense(64, activation = 'relu'),\n",
    "    Dense(1, activation = 'sigmoid') # Binary Output\n",
    "])\n",
    "\n",
    "model.compile(optimizer = 'adam', loss = 'binary_crossentropy', metrics=['accuracy'])\n",
    "\n",
    "model.fit(x_train, y_train, epochs = 5, batch_size = 128, validation_split = 0.2)"
   ]
  },
  {
   "cell_type": "code",
   "execution_count": 5,
   "metadata": {
    "colab": {
     "base_uri": "https://localhost:8080/"
    },
    "executionInfo": {
     "elapsed": 3510,
     "status": "ok",
     "timestamp": 1746290812841,
     "user": {
      "displayName": "Shashvat Khajuria",
      "userId": "12634928469428851504"
     },
     "user_tz": -330
    },
    "id": "n1rfzstq-psF",
    "outputId": "98317105-f67b-49d4-9b12-47d4ce1d0b90"
   },
   "outputs": [
    {
     "name": "stdout",
     "output_type": "stream",
     "text": [
      "782/782 [==============================] - 2s 2ms/step\n"
     ]
    },
    {
     "data": {
      "text/plain": [
       "0.87216"
      ]
     },
     "execution_count": 5,
     "metadata": {},
     "output_type": "execute_result"
    }
   ],
   "source": [
    "y_pred_probabilities = model.predict(x_test)\n",
    "\n",
    "# y_pred = np.argmax(y_pred_probabilities, axis = 1)\n",
    "y_pred = (y_pred_probabilities > 0.5).astype('int64')\n",
    "\n",
    "accuracy = accuracy_score(y_pred, y_test)\n",
    "accuracy"
   ]
  },
  {
   "cell_type": "code",
   "execution_count": 6,
   "metadata": {
    "colab": {
     "base_uri": "https://localhost:8080/"
    },
    "executionInfo": {
     "elapsed": 22,
     "status": "ok",
     "timestamp": 1746290822816,
     "user": {
      "displayName": "Shashvat Khajuria",
      "userId": "12634928469428851504"
     },
     "user_tz": -330
    },
    "id": "u3-4uKjo_7UA",
    "outputId": "7d0fb889-c05f-48a9-c6f9-5e750fa6f90a"
   },
   "outputs": [
    {
     "name": "stdout",
     "output_type": "stream",
     "text": [
      "              precision    recall  f1-score   support\n",
      "\n",
      "           0       0.87      0.87      0.87     12500\n",
      "           1       0.87      0.87      0.87     12500\n",
      "\n",
      "    accuracy                           0.87     25000\n",
      "   macro avg       0.87      0.87      0.87     25000\n",
      "weighted avg       0.87      0.87      0.87     25000\n",
      "\n"
     ]
    }
   ],
   "source": [
    "print(classification_report(y_test, y_pred))"
   ]
  },
  {
   "cell_type": "code",
   "execution_count": 7,
   "metadata": {
    "colab": {
     "base_uri": "https://localhost:8080/",
     "height": 466
    },
    "executionInfo": {
     "elapsed": 172,
     "status": "ok",
     "timestamp": 1746290825084,
     "user": {
      "displayName": "Shashvat Khajuria",
      "userId": "12634928469428851504"
     },
     "user_tz": -330
    },
    "id": "ZkHJEx5zAk7H",
    "outputId": "90528397-6574-447b-95ea-5a0233a36964"
   },
   "outputs": [
    {
     "data": {
      "text/plain": [
       "<sklearn.metrics._plot.confusion_matrix.ConfusionMatrixDisplay at 0x1c8253ddc90>"
      ]
     },
     "execution_count": 7,
     "metadata": {},
     "output_type": "execute_result"
    },
    {
     "data": {
      "image/png": "[encoded data removed]",
      "text/plain": [
       "<Figure size 640x480 with 2 Axes>"
      ]
     },
     "metadata": {},
     "output_type": "display_data"
    }
   ],
   "source": [
    "cm = confusion_matrix(y_test, y_pred)\n",
    "disp = ConfusionMatrixDisplay(confusion_matrix=cm)\n",
    "disp.plot()"
   ]
  },
  {
   "cell_type": "code",
   "execution_count": null,
   "metadata": {
    "id": "od4M74dlAwpt"
   },
   "outputs": [],
   "source": []
  },
  {
   "cell_type": "code",
   "execution_count": null,
   "metadata": {},
   "outputs": [],
   "source": []
  },
  {
   "cell_type": "code",
   "execution_count": 8,
   "metadata": {},
   "outputs": [],
   "source": [
    "# model = Sequential([\n",
    "#     Embedding(vocab_size, embedding_dim, input_length=maxlen),\n",
    "#     Flatten(),\n",
    "#     Dense(64, activation=\"relu\"),\n",
    "#     Dense(1, activation=\"sigmoid\")\n",
    "# ])\n",
    "\n",
    "\n",
    "# model.compile(optimizer=\"adam\", loss=\"binary_crossentropy\", metrics=[\"accuracy\"])\n",
    "# model.fit(X_Train, y_train, epochs=5, batch_size=128, validation_split=0.2)\n",
    "\n",
    "# y_pred_prob = model.predict(X_Test)\n",
    "\n",
    "# y_pred = (y_pred_prob>0.5).astype(\"int64\")\n",
    "\n",
    "# accuracy_score = accuracy_score(y_pred, y_Test)\n"
   ]
  },
  {
   "cell_type": "code",
   "execution_count": null,
   "metadata": {},
   "outputs": [],
   "source": []
  }
 ],
 "metadata": {
  "colab": {
   "authorship_tag": "ABX9TyOLeUgRVL5SwkX+BYLqf+kn",
   "provenance": []
  },
  "kernelspec": {
   "display_name": "Python 3 (ipykernel)",
   "language": "python",
   "name": "python3"
  },
  "language_info": {
   "codemirror_mode": {
    "name": "ipython",
    "version": 3
   },
   "file_extension": ".py",
   "mimetype": "text/x-python",
   "name": "python",
   "nbconvert_exporter": "python",
   "pygments_lexer": "ipython3",
   "version": "3.11.3"
  }
 },
 "nbformat": 4,
 "nbformat_minor": 1
}
