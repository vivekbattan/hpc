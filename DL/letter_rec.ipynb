{
 "cells": [
  {
   "cell_type": "code",
   "execution_count": 1,
   "metadata": {},
   "outputs": [],
   "source": [
    "import numpy as np\n",
    "import pandas as pd\n",
    "from sklearn.preprocessing import LabelEncoder\n",
    "from sklearn.model_selection import train_test_split\n",
    "from sklearn.metrics import accuracy_score, classification_report\n",
    "\n",
    "from tensorflow.keras.models import Sequential\n",
    "from tensorflow.keras.layers import Dense"
   ]
  },
  {
   "cell_type": "code",
   "execution_count": 2,
   "metadata": {},
   "outputs": [],
   "source": [
    "df = pd.read_csv(\"letter-recognition.data\", header = None)"
   ]
  },
  {
   "cell_type": "code",
   "execution_count": 3,
   "metadata": {},
   "outputs": [
    {
     "name": "stdout",
     "output_type": "stream",
     "text": [
      "<class 'pandas.core.frame.DataFrame'>\n",
      "RangeIndex: 20000 entries, 0 to 19999\n",
      "Data columns (total 17 columns):\n",
      " #   Column  Non-Null Count  Dtype \n",
      "---  ------  --------------  ----- \n",
      " 0   0       20000 non-null  object\n",
      " 1   1       20000 non-null  int64 \n",
      " 2   2       20000 non-null  int64 \n",
      " 3   3       20000 non-null  int64 \n",
      " 4   4       20000 non-null  int64 \n",
      " 5   5       20000 non-null  int64 \n",
      " 6   6       20000 non-null  int64 \n",
      " 7   7       20000 non-null  int64 \n",
      " 8   8       20000 non-null  int64 \n",
      " 9   9       20000 non-null  int64 \n",
      " 10  10      20000 non-null  int64 \n",
      " 11  11      20000 non-null  int64 \n",
      " 12  12      20000 non-null  int64 \n",
      " 13  13      20000 non-null  int64 \n",
      " 14  14      20000 non-null  int64 \n",
      " 15  15      20000 non-null  int64 \n",
      " 16  16      20000 non-null  int64 \n",
      "dtypes: int64(16), object(1)\n",
      "memory usage: 2.6+ MB\n"
     ]
    }
   ],
   "source": [
    "df.info()"
   ]
  },
  {
   "cell_type": "code",
   "execution_count": 4,
   "metadata": {},
   "outputs": [],
   "source": [
    "X = df.drop([0], axis = 1)\n",
    "y = df[[0]]"
   ]
  },
  {
   "cell_type": "code",
   "execution_count": 5,
   "metadata": {},
   "outputs": [
    {
     "name": "stderr",
     "output_type": "stream",
     "text": [
      "C:\\Users\\vivok\\anaconda3\\Lib\\site-packages\\sklearn\\preprocessing\\_label.py:116: DataConversionWarning: A column-vector y was passed when a 1d array was expected. Please change the shape of y to (n_samples, ), for example using ravel().\n",
      "  y = column_or_1d(y, warn=True)\n",
      "C:\\Users\\vivok\\AppData\\Local\\Temp\\ipykernel_2668\\1736167568.py:2: SettingWithCopyWarning: \n",
      "A value is trying to be set on a copy of a slice from a DataFrame.\n",
      "Try using .loc[row_indexer,col_indexer] = value instead\n",
      "\n",
      "See the caveats in the documentation: https://pandas.pydata.org/pandas-docs/stable/user_guide/indexing.html#returning-a-view-versus-a-copy\n",
      "  y[0] = label_enc.fit_transform(y)\n"
     ]
    },
    {
     "data": {
      "text/html": [
       "<div>\n",
       "<style scoped>\n",
       "    .dataframe tbody tr th:only-of-type {\n",
       "        vertical-align: middle;\n",
       "    }\n",
       "\n",
       "    .dataframe tbody tr th {\n",
       "        vertical-align: top;\n",
       "    }\n",
       "\n",
       "    .dataframe thead th {\n",
       "        text-align: right;\n",
       "    }\n",
       "</style>\n",
       "<table border=\"1\" class=\"dataframe\">\n",
       "  <thead>\n",
       "    <tr style=\"text-align: right;\">\n",
       "      <th></th>\n",
       "      <th>0</th>\n",
       "    </tr>\n",
       "  </thead>\n",
       "  <tbody>\n",
       "    <tr>\n",
       "      <th>0</th>\n",
       "      <td>19</td>\n",
       "    </tr>\n",
       "    <tr>\n",
       "      <th>1</th>\n",
       "      <td>8</td>\n",
       "    </tr>\n",
       "    <tr>\n",
       "      <th>2</th>\n",
       "      <td>3</td>\n",
       "    </tr>\n",
       "    <tr>\n",
       "      <th>3</th>\n",
       "      <td>13</td>\n",
       "    </tr>\n",
       "    <tr>\n",
       "      <th>4</th>\n",
       "      <td>6</td>\n",
       "    </tr>\n",
       "    <tr>\n",
       "      <th>...</th>\n",
       "      <td>...</td>\n",
       "    </tr>\n",
       "    <tr>\n",
       "      <th>19995</th>\n",
       "      <td>3</td>\n",
       "    </tr>\n",
       "    <tr>\n",
       "      <th>19996</th>\n",
       "      <td>2</td>\n",
       "    </tr>\n",
       "    <tr>\n",
       "      <th>19997</th>\n",
       "      <td>19</td>\n",
       "    </tr>\n",
       "    <tr>\n",
       "      <th>19998</th>\n",
       "      <td>18</td>\n",
       "    </tr>\n",
       "    <tr>\n",
       "      <th>19999</th>\n",
       "      <td>0</td>\n",
       "    </tr>\n",
       "  </tbody>\n",
       "</table>\n",
       "<p>20000 rows × 1 columns</p>\n",
       "</div>"
      ],
      "text/plain": [
       "        0\n",
       "0      19\n",
       "1       8\n",
       "2       3\n",
       "3      13\n",
       "4       6\n",
       "...    ..\n",
       "19995   3\n",
       "19996   2\n",
       "19997  19\n",
       "19998  18\n",
       "19999   0\n",
       "\n",
       "[20000 rows x 1 columns]"
      ]
     },
     "execution_count": 5,
     "metadata": {},
     "output_type": "execute_result"
    }
   ],
   "source": [
    "label_enc = LabelEncoder()\n",
    "y[0] = label_enc.fit_transform(y)\n",
    "y"
   ]
  },
  {
   "cell_type": "code",
   "execution_count": 6,
   "metadata": {},
   "outputs": [],
   "source": [
    "X_train, X_test, y_train, y_test = train_test_split(X, y, train_size=0.7)"
   ]
  },
  {
   "cell_type": "code",
   "execution_count": 7,
   "metadata": {},
   "outputs": [],
   "source": [
    "model = Sequential([\n",
    "    Dense(128, activation=\"relu\", input_dim=16),\n",
    "    Dense(64, activation=\"relu\"),\n",
    "    Dense(26, activation=\"softmax\")\n",
    "])"
   ]
  },
  {
   "cell_type": "code",
   "execution_count": 8,
   "metadata": {},
   "outputs": [],
   "source": [
    "model.compile(optimizer=\"adam\", loss=\"sparse_categorical_crossentropy\", metrics=[\"accuracy\"])"
   ]
  },
  {
   "cell_type": "code",
   "execution_count": 9,
   "metadata": {},
   "outputs": [
    {
     "name": "stdout",
     "output_type": "stream",
     "text": [
      "Epoch 1/20\n",
      "307/307 [==============================] - 1s 2ms/step - loss: 1.8848 - accuracy: 0.4784 - val_loss: 1.2443 - val_accuracy: 0.6583\n",
      "Epoch 2/20\n",
      "307/307 [==============================] - 0s 1ms/step - loss: 1.0613 - accuracy: 0.7065 - val_loss: 0.9581 - val_accuracy: 0.7186\n",
      "Epoch 3/20\n",
      "307/307 [==============================] - 0s 1ms/step - loss: 0.8691 - accuracy: 0.7558 - val_loss: 0.8278 - val_accuracy: 0.7536\n",
      "Epoch 4/20\n",
      "307/307 [==============================] - 0s 1ms/step - loss: 0.7560 - accuracy: 0.7817 - val_loss: 0.7595 - val_accuracy: 0.7662\n",
      "Epoch 5/20\n",
      "307/307 [==============================] - 0s 1ms/step - loss: 0.6764 - accuracy: 0.8054 - val_loss: 0.6681 - val_accuracy: 0.7900\n",
      "Epoch 6/20\n",
      "307/307 [==============================] - 0s 1ms/step - loss: 0.6203 - accuracy: 0.8143 - val_loss: 0.6228 - val_accuracy: 0.8164\n",
      "Epoch 7/20\n",
      "307/307 [==============================] - 0s 1ms/step - loss: 0.5668 - accuracy: 0.8315 - val_loss: 0.5518 - val_accuracy: 0.8362\n",
      "Epoch 8/20\n",
      "307/307 [==============================] - 0s 1ms/step - loss: 0.5189 - accuracy: 0.8454 - val_loss: 0.5514 - val_accuracy: 0.8324\n",
      "Epoch 9/20\n",
      "307/307 [==============================] - 0s 1ms/step - loss: 0.4872 - accuracy: 0.8539 - val_loss: 0.5417 - val_accuracy: 0.8298\n",
      "Epoch 10/20\n",
      "307/307 [==============================] - 0s 1ms/step - loss: 0.4545 - accuracy: 0.8617 - val_loss: 0.4622 - val_accuracy: 0.8510\n",
      "Epoch 11/20\n",
      "307/307 [==============================] - 0s 1ms/step - loss: 0.4172 - accuracy: 0.8740 - val_loss: 0.4859 - val_accuracy: 0.8407\n",
      "Epoch 12/20\n",
      "307/307 [==============================] - 0s 1ms/step - loss: 0.3948 - accuracy: 0.8776 - val_loss: 0.4302 - val_accuracy: 0.8602\n",
      "Epoch 13/20\n",
      "307/307 [==============================] - 0s 1ms/step - loss: 0.3689 - accuracy: 0.8907 - val_loss: 0.4204 - val_accuracy: 0.8650\n",
      "Epoch 14/20\n",
      "307/307 [==============================] - 0s 1ms/step - loss: 0.3504 - accuracy: 0.8926 - val_loss: 0.3985 - val_accuracy: 0.8724\n",
      "Epoch 15/20\n",
      "307/307 [==============================] - 0s 1ms/step - loss: 0.3320 - accuracy: 0.8986 - val_loss: 0.3786 - val_accuracy: 0.8750\n",
      "Epoch 16/20\n",
      "307/307 [==============================] - 0s 1ms/step - loss: 0.3099 - accuracy: 0.9020 - val_loss: 0.3731 - val_accuracy: 0.8774\n",
      "Epoch 17/20\n",
      "307/307 [==============================] - 0s 1ms/step - loss: 0.2953 - accuracy: 0.9101 - val_loss: 0.3396 - val_accuracy: 0.8931\n",
      "Epoch 18/20\n",
      "307/307 [==============================] - 0s 1ms/step - loss: 0.2796 - accuracy: 0.9127 - val_loss: 0.3542 - val_accuracy: 0.8821\n",
      "Epoch 19/20\n",
      "307/307 [==============================] - 0s 1ms/step - loss: 0.2694 - accuracy: 0.9146 - val_loss: 0.3233 - val_accuracy: 0.8960\n",
      "Epoch 20/20\n",
      "307/307 [==============================] - 0s 1ms/step - loss: 0.2666 - accuracy: 0.9132 - val_loss: 0.3321 - val_accuracy: 0.8919\n"
     ]
    }
   ],
   "source": [
    "history = model.fit(X_train, y_train, epochs=20, batch_size=32, validation_split=0.3, verbose=1)"
   ]
  },
  {
   "cell_type": "code",
   "execution_count": 10,
   "metadata": {},
   "outputs": [
    {
     "name": "stdout",
     "output_type": "stream",
     "text": [
      "188/188 [==============================] - 0s 785us/step - loss: 0.3047 - accuracy: 0.9017\n"
     ]
    },
    {
     "data": {
      "text/plain": [
       "[0.30466893315315247, 0.9016666412353516]"
      ]
     },
     "execution_count": 10,
     "metadata": {},
     "output_type": "execute_result"
    }
   ],
   "source": [
    "model.evaluate(X_test, y_test)"
   ]
  },
  {
   "cell_type": "code",
   "execution_count": 11,
   "metadata": {},
   "outputs": [
    {
     "name": "stdout",
     "output_type": "stream",
     "text": [
      "188/188 [==============================] - 0s 662us/step\n",
      "0.9016666666666666\n",
      "              precision    recall  f1-score   support\n",
      "\n",
      "           0       0.99      0.96      0.97       235\n",
      "           1       0.86      0.88      0.87       224\n",
      "           2       0.88      0.91      0.89       210\n",
      "           3       0.86      0.90      0.88       257\n",
      "           4       0.80      0.87      0.84       235\n",
      "           5       0.84      0.92      0.88       236\n",
      "           6       0.95      0.71      0.81       218\n",
      "           7       0.83      0.78      0.80       208\n",
      "           8       0.94      0.92      0.93       224\n",
      "           9       0.94      0.92      0.93       230\n",
      "          10       0.77      0.95      0.85       224\n",
      "          11       0.98      0.93      0.95       227\n",
      "          12       0.94      0.94      0.94       221\n",
      "          13       0.96      0.91      0.93       220\n",
      "          14       0.95      0.88      0.91       233\n",
      "          15       0.94      0.86      0.90       251\n",
      "          16       0.93      0.92      0.92       233\n",
      "          17       0.91      0.83      0.87       223\n",
      "          18       0.91      0.87      0.89       228\n",
      "          19       0.90      0.94      0.92       249\n",
      "          20       0.92      0.96      0.94       256\n",
      "          21       0.79      0.97      0.87       237\n",
      "          22       0.94      0.94      0.94       241\n",
      "          23       0.90      0.94      0.92       250\n",
      "          24       0.97      0.87      0.91       230\n",
      "          25       0.95      0.94      0.94       200\n",
      "\n",
      "    accuracy                           0.90      6000\n",
      "   macro avg       0.91      0.90      0.90      6000\n",
      "weighted avg       0.91      0.90      0.90      6000\n",
      "\n"
     ]
    }
   ],
   "source": [
    "y_pred_probabilities = model.predict(X_test)\n",
    "\n",
    "y_pred = np.argmax(y_pred_probabilities, axis = 1)\n",
    "\n",
    "accuracy = accuracy_score(y_test, y_pred)\n",
    "print(accuracy)\n",
    "print(classification_report(y_test, y_pred))"
   ]
  },
  {
   "cell_type": "code",
   "execution_count": null,
   "metadata": {},
   "outputs": [],
   "source": []
  }
 ],
 "metadata": {
  "colab": {
   "authorship_tag": "ABX9TyPhM1JXq1iR0GWLoCnz/6wv",
   "mount_file_id": "13odzPtYoqnGrnEX4ojFO2ILDHY5VSLh8",
   "provenance": []
  },
  "kernelspec": {
   "display_name": "Python 3 (ipykernel)",
   "language": "python",
   "name": "python3"
  },
  "language_info": {
   "codemirror_mode": {
    "name": "ipython",
    "version": 3
   },
   "file_extension": ".py",
   "mimetype": "text/x-python",
   "name": "python",
   "nbconvert_exporter": "python",
   "pygments_lexer": "ipython3",
   "version": "3.11.3"
  }
 },
 "nbformat": 4,
 "nbformat_minor": 1
}
