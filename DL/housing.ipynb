{
 "cells": [
  {
   "cell_type": "code",
   "execution_count": 1,
   "metadata": {},
   "outputs": [],
   "source": [
    "import pandas as pd\n",
    "from sklearn.preprocessing import StandardScaler\n",
    "from sklearn.model_selection import train_test_split\n",
    "from sklearn.metrics import mean_absolute_error, mean_squared_error\n",
    "from sklearn.impute import SimpleImputer\n",
    "\n",
    "import tensorflow as tf\n",
    "from tensorflow.keras.models import Sequential\n",
    "from tensorflow.keras.layers import Dense"
   ]
  },
  {
   "cell_type": "code",
   "execution_count": 2,
   "metadata": {},
   "outputs": [],
   "source": [
    "df = pd.read_csv(\"HousingData.csv\")"
   ]
  },
  {
   "cell_type": "code",
   "execution_count": 3,
   "metadata": {},
   "outputs": [
    {
     "data": {
      "text/html": [
       "<div>\n",
       "<style scoped>\n",
       "    .dataframe tbody tr th:only-of-type {\n",
       "        vertical-align: middle;\n",
       "    }\n",
       "\n",
       "    .dataframe tbody tr th {\n",
       "        vertical-align: top;\n",
       "    }\n",
       "\n",
       "    .dataframe thead th {\n",
       "        text-align: right;\n",
       "    }\n",
       "</style>\n",
       "<table border=\"1\" class=\"dataframe\">\n",
       "  <thead>\n",
       "    <tr style=\"text-align: right;\">\n",
       "      <th></th>\n",
       "      <th>CRIM</th>\n",
       "      <th>ZN</th>\n",
       "      <th>INDUS</th>\n",
       "      <th>CHAS</th>\n",
       "      <th>NOX</th>\n",
       "      <th>RM</th>\n",
       "      <th>AGE</th>\n",
       "      <th>DIS</th>\n",
       "      <th>RAD</th>\n",
       "      <th>TAX</th>\n",
       "      <th>PTRATIO</th>\n",
       "      <th>B</th>\n",
       "      <th>LSTAT</th>\n",
       "      <th>MEDV</th>\n",
       "    </tr>\n",
       "  </thead>\n",
       "  <tbody>\n",
       "    <tr>\n",
       "      <th>0</th>\n",
       "      <td>0.00632</td>\n",
       "      <td>18.0</td>\n",
       "      <td>2.31</td>\n",
       "      <td>0.0</td>\n",
       "      <td>0.538</td>\n",
       "      <td>6.575</td>\n",
       "      <td>65.2</td>\n",
       "      <td>4.0900</td>\n",
       "      <td>1</td>\n",
       "      <td>296</td>\n",
       "      <td>15.3</td>\n",
       "      <td>396.90</td>\n",
       "      <td>4.98</td>\n",
       "      <td>24.0</td>\n",
       "    </tr>\n",
       "    <tr>\n",
       "      <th>1</th>\n",
       "      <td>0.02731</td>\n",
       "      <td>0.0</td>\n",
       "      <td>7.07</td>\n",
       "      <td>0.0</td>\n",
       "      <td>0.469</td>\n",
       "      <td>6.421</td>\n",
       "      <td>78.9</td>\n",
       "      <td>4.9671</td>\n",
       "      <td>2</td>\n",
       "      <td>242</td>\n",
       "      <td>17.8</td>\n",
       "      <td>396.90</td>\n",
       "      <td>9.14</td>\n",
       "      <td>21.6</td>\n",
       "    </tr>\n",
       "    <tr>\n",
       "      <th>2</th>\n",
       "      <td>0.02729</td>\n",
       "      <td>0.0</td>\n",
       "      <td>7.07</td>\n",
       "      <td>0.0</td>\n",
       "      <td>0.469</td>\n",
       "      <td>7.185</td>\n",
       "      <td>61.1</td>\n",
       "      <td>4.9671</td>\n",
       "      <td>2</td>\n",
       "      <td>242</td>\n",
       "      <td>17.8</td>\n",
       "      <td>392.83</td>\n",
       "      <td>4.03</td>\n",
       "      <td>34.7</td>\n",
       "    </tr>\n",
       "    <tr>\n",
       "      <th>3</th>\n",
       "      <td>0.03237</td>\n",
       "      <td>0.0</td>\n",
       "      <td>2.18</td>\n",
       "      <td>0.0</td>\n",
       "      <td>0.458</td>\n",
       "      <td>6.998</td>\n",
       "      <td>45.8</td>\n",
       "      <td>6.0622</td>\n",
       "      <td>3</td>\n",
       "      <td>222</td>\n",
       "      <td>18.7</td>\n",
       "      <td>394.63</td>\n",
       "      <td>2.94</td>\n",
       "      <td>33.4</td>\n",
       "    </tr>\n",
       "    <tr>\n",
       "      <th>4</th>\n",
       "      <td>0.06905</td>\n",
       "      <td>0.0</td>\n",
       "      <td>2.18</td>\n",
       "      <td>0.0</td>\n",
       "      <td>0.458</td>\n",
       "      <td>7.147</td>\n",
       "      <td>54.2</td>\n",
       "      <td>6.0622</td>\n",
       "      <td>3</td>\n",
       "      <td>222</td>\n",
       "      <td>18.7</td>\n",
       "      <td>396.90</td>\n",
       "      <td>NaN</td>\n",
       "      <td>36.2</td>\n",
       "    </tr>\n",
       "    <tr>\n",
       "      <th>...</th>\n",
       "      <td>...</td>\n",
       "      <td>...</td>\n",
       "      <td>...</td>\n",
       "      <td>...</td>\n",
       "      <td>...</td>\n",
       "      <td>...</td>\n",
       "      <td>...</td>\n",
       "      <td>...</td>\n",
       "      <td>...</td>\n",
       "      <td>...</td>\n",
       "      <td>...</td>\n",
       "      <td>...</td>\n",
       "      <td>...</td>\n",
       "      <td>...</td>\n",
       "    </tr>\n",
       "    <tr>\n",
       "      <th>501</th>\n",
       "      <td>0.06263</td>\n",
       "      <td>0.0</td>\n",
       "      <td>11.93</td>\n",
       "      <td>0.0</td>\n",
       "      <td>0.573</td>\n",
       "      <td>6.593</td>\n",
       "      <td>69.1</td>\n",
       "      <td>2.4786</td>\n",
       "      <td>1</td>\n",
       "      <td>273</td>\n",
       "      <td>21.0</td>\n",
       "      <td>391.99</td>\n",
       "      <td>NaN</td>\n",
       "      <td>22.4</td>\n",
       "    </tr>\n",
       "    <tr>\n",
       "      <th>502</th>\n",
       "      <td>0.04527</td>\n",
       "      <td>0.0</td>\n",
       "      <td>11.93</td>\n",
       "      <td>0.0</td>\n",
       "      <td>0.573</td>\n",
       "      <td>6.120</td>\n",
       "      <td>76.7</td>\n",
       "      <td>2.2875</td>\n",
       "      <td>1</td>\n",
       "      <td>273</td>\n",
       "      <td>21.0</td>\n",
       "      <td>396.90</td>\n",
       "      <td>9.08</td>\n",
       "      <td>20.6</td>\n",
       "    </tr>\n",
       "    <tr>\n",
       "      <th>503</th>\n",
       "      <td>0.06076</td>\n",
       "      <td>0.0</td>\n",
       "      <td>11.93</td>\n",
       "      <td>0.0</td>\n",
       "      <td>0.573</td>\n",
       "      <td>6.976</td>\n",
       "      <td>91.0</td>\n",
       "      <td>2.1675</td>\n",
       "      <td>1</td>\n",
       "      <td>273</td>\n",
       "      <td>21.0</td>\n",
       "      <td>396.90</td>\n",
       "      <td>5.64</td>\n",
       "      <td>23.9</td>\n",
       "    </tr>\n",
       "    <tr>\n",
       "      <th>504</th>\n",
       "      <td>0.10959</td>\n",
       "      <td>0.0</td>\n",
       "      <td>11.93</td>\n",
       "      <td>0.0</td>\n",
       "      <td>0.573</td>\n",
       "      <td>6.794</td>\n",
       "      <td>89.3</td>\n",
       "      <td>2.3889</td>\n",
       "      <td>1</td>\n",
       "      <td>273</td>\n",
       "      <td>21.0</td>\n",
       "      <td>393.45</td>\n",
       "      <td>6.48</td>\n",
       "      <td>22.0</td>\n",
       "    </tr>\n",
       "    <tr>\n",
       "      <th>505</th>\n",
       "      <td>0.04741</td>\n",
       "      <td>0.0</td>\n",
       "      <td>11.93</td>\n",
       "      <td>0.0</td>\n",
       "      <td>0.573</td>\n",
       "      <td>6.030</td>\n",
       "      <td>NaN</td>\n",
       "      <td>2.5050</td>\n",
       "      <td>1</td>\n",
       "      <td>273</td>\n",
       "      <td>21.0</td>\n",
       "      <td>396.90</td>\n",
       "      <td>7.88</td>\n",
       "      <td>11.9</td>\n",
       "    </tr>\n",
       "  </tbody>\n",
       "</table>\n",
       "<p>506 rows × 14 columns</p>\n",
       "</div>"
      ],
      "text/plain": [
       "        CRIM    ZN  INDUS  CHAS    NOX     RM   AGE     DIS  RAD  TAX  \\\n",
       "0    0.00632  18.0   2.31   0.0  0.538  6.575  65.2  4.0900    1  296   \n",
       "1    0.02731   0.0   7.07   0.0  0.469  6.421  78.9  4.9671    2  242   \n",
       "2    0.02729   0.0   7.07   0.0  0.469  7.185  61.1  4.9671    2  242   \n",
       "3    0.03237   0.0   2.18   0.0  0.458  6.998  45.8  6.0622    3  222   \n",
       "4    0.06905   0.0   2.18   0.0  0.458  7.147  54.2  6.0622    3  222   \n",
       "..       ...   ...    ...   ...    ...    ...   ...     ...  ...  ...   \n",
       "501  0.06263   0.0  11.93   0.0  0.573  6.593  69.1  2.4786    1  273   \n",
       "502  0.04527   0.0  11.93   0.0  0.573  6.120  76.7  2.2875    1  273   \n",
       "503  0.06076   0.0  11.93   0.0  0.573  6.976  91.0  2.1675    1  273   \n",
       "504  0.10959   0.0  11.93   0.0  0.573  6.794  89.3  2.3889    1  273   \n",
       "505  0.04741   0.0  11.93   0.0  0.573  6.030   NaN  2.5050    1  273   \n",
       "\n",
       "     PTRATIO       B  LSTAT  MEDV  \n",
       "0       15.3  396.90   4.98  24.0  \n",
       "1       17.8  396.90   9.14  21.6  \n",
       "2       17.8  392.83   4.03  34.7  \n",
       "3       18.7  394.63   2.94  33.4  \n",
       "4       18.7  396.90    NaN  36.2  \n",
       "..       ...     ...    ...   ...  \n",
       "501     21.0  391.99    NaN  22.4  \n",
       "502     21.0  396.90   9.08  20.6  \n",
       "503     21.0  396.90   5.64  23.9  \n",
       "504     21.0  393.45   6.48  22.0  \n",
       "505     21.0  396.90   7.88  11.9  \n",
       "\n",
       "[506 rows x 14 columns]"
      ]
     },
     "execution_count": 3,
     "metadata": {},
     "output_type": "execute_result"
    }
   ],
   "source": [
    "df"
   ]
  },
  {
   "cell_type": "code",
   "execution_count": 4,
   "metadata": {},
   "outputs": [
    {
     "name": "stdout",
     "output_type": "stream",
     "text": [
      "<class 'pandas.core.frame.DataFrame'>\n",
      "RangeIndex: 506 entries, 0 to 505\n",
      "Data columns (total 14 columns):\n",
      " #   Column   Non-Null Count  Dtype  \n",
      "---  ------   --------------  -----  \n",
      " 0   CRIM     486 non-null    float64\n",
      " 1   ZN       486 non-null    float64\n",
      " 2   INDUS    486 non-null    float64\n",
      " 3   CHAS     486 non-null    float64\n",
      " 4   NOX      506 non-null    float64\n",
      " 5   RM       506 non-null    float64\n",
      " 6   AGE      486 non-null    float64\n",
      " 7   DIS      506 non-null    float64\n",
      " 8   RAD      506 non-null    int64  \n",
      " 9   TAX      506 non-null    int64  \n",
      " 10  PTRATIO  506 non-null    float64\n",
      " 11  B        506 non-null    float64\n",
      " 12  LSTAT    486 non-null    float64\n",
      " 13  MEDV     506 non-null    float64\n",
      "dtypes: float64(12), int64(2)\n",
      "memory usage: 55.5 KB\n"
     ]
    }
   ],
   "source": [
    "df.info()"
   ]
  },
  {
   "cell_type": "code",
   "execution_count": 5,
   "metadata": {},
   "outputs": [],
   "source": [
    "imputer = SimpleImputer(strategy = \"median\")\n",
    "df[df.columns] = imputer.fit_transform(df)"
   ]
  },
  {
   "cell_type": "code",
   "execution_count": 6,
   "metadata": {},
   "outputs": [
    {
     "name": "stdout",
     "output_type": "stream",
     "text": [
      "<class 'pandas.core.frame.DataFrame'>\n",
      "RangeIndex: 506 entries, 0 to 505\n",
      "Data columns (total 14 columns):\n",
      " #   Column   Non-Null Count  Dtype  \n",
      "---  ------   --------------  -----  \n",
      " 0   CRIM     506 non-null    float64\n",
      " 1   ZN       506 non-null    float64\n",
      " 2   INDUS    506 non-null    float64\n",
      " 3   CHAS     506 non-null    float64\n",
      " 4   NOX      506 non-null    float64\n",
      " 5   RM       506 non-null    float64\n",
      " 6   AGE      506 non-null    float64\n",
      " 7   DIS      506 non-null    float64\n",
      " 8   RAD      506 non-null    float64\n",
      " 9   TAX      506 non-null    float64\n",
      " 10  PTRATIO  506 non-null    float64\n",
      " 11  B        506 non-null    float64\n",
      " 12  LSTAT    506 non-null    float64\n",
      " 13  MEDV     506 non-null    float64\n",
      "dtypes: float64(14)\n",
      "memory usage: 55.5 KB\n"
     ]
    }
   ],
   "source": [
    "df.info()"
   ]
  },
  {
   "cell_type": "code",
   "execution_count": 7,
   "metadata": {},
   "outputs": [],
   "source": [
    "X = df.drop(['MEDV'], axis = 1)\n",
    "y = df[['MEDV']]"
   ]
  },
  {
   "cell_type": "code",
   "execution_count": 8,
   "metadata": {},
   "outputs": [
    {
     "name": "stdout",
     "output_type": "stream",
     "text": [
      "<class 'pandas.core.frame.DataFrame'>\n",
      "RangeIndex: 506 entries, 0 to 505\n",
      "Data columns (total 13 columns):\n",
      " #   Column   Non-Null Count  Dtype  \n",
      "---  ------   --------------  -----  \n",
      " 0   CRIM     506 non-null    float64\n",
      " 1   ZN       506 non-null    float64\n",
      " 2   INDUS    506 non-null    float64\n",
      " 3   CHAS     506 non-null    float64\n",
      " 4   NOX      506 non-null    float64\n",
      " 5   RM       506 non-null    float64\n",
      " 6   AGE      506 non-null    float64\n",
      " 7   DIS      506 non-null    float64\n",
      " 8   RAD      506 non-null    float64\n",
      " 9   TAX      506 non-null    float64\n",
      " 10  PTRATIO  506 non-null    float64\n",
      " 11  B        506 non-null    float64\n",
      " 12  LSTAT    506 non-null    float64\n",
      "dtypes: float64(13)\n",
      "memory usage: 51.5 KB\n"
     ]
    }
   ],
   "source": [
    "X.info()"
   ]
  },
  {
   "cell_type": "code",
   "execution_count": 9,
   "metadata": {},
   "outputs": [
    {
     "name": "stdout",
     "output_type": "stream",
     "text": [
      "<class 'pandas.core.frame.DataFrame'>\n",
      "RangeIndex: 506 entries, 0 to 505\n",
      "Data columns (total 1 columns):\n",
      " #   Column  Non-Null Count  Dtype  \n",
      "---  ------  --------------  -----  \n",
      " 0   MEDV    506 non-null    float64\n",
      "dtypes: float64(1)\n",
      "memory usage: 4.1 KB\n"
     ]
    }
   ],
   "source": [
    "y.info()"
   ]
  },
  {
   "cell_type": "code",
   "execution_count": 10,
   "metadata": {},
   "outputs": [],
   "source": [
    "X_train, X_test, y_train, y_test = train_test_split(X, y, train_size=0.70)"
   ]
  },
  {
   "cell_type": "code",
   "execution_count": 11,
   "metadata": {},
   "outputs": [],
   "source": [
    "scalar = StandardScaler()\n",
    "X_train_scaled = scalar.fit_transform(X_train)\n",
    "X_test_scaled = scalar.fit_transform(X_test)"
   ]
  },
  {
   "cell_type": "code",
   "execution_count": 12,
   "metadata": {},
   "outputs": [],
   "source": [
    "model = Sequential([\n",
    "    Dense(64, activation = \"relu\", input_shape = (X_train.shape[1], )),\n",
    "    Dense(16, activation = \"relu\"),\n",
    "    Dense(1, activation = \"relu\")\n",
    "])"
   ]
  },
  {
   "cell_type": "code",
   "execution_count": 13,
   "metadata": {},
   "outputs": [
    {
     "name": "stdout",
     "output_type": "stream",
     "text": [
      "Epoch 1/50\n",
      "8/8 [==============================] - 1s 22ms/step - loss: 22.3458 - mae: 22.3458 - val_loss: 22.9234 - val_mae: 22.9234\n",
      "Epoch 2/50\n",
      "8/8 [==============================] - 0s 4ms/step - loss: 22.3457 - mae: 22.3457 - val_loss: 22.9234 - val_mae: 22.9234\n",
      "Epoch 3/50\n",
      "8/8 [==============================] - 0s 4ms/step - loss: 22.3458 - mae: 22.3458 - val_loss: 22.9234 - val_mae: 22.9234\n",
      "Epoch 4/50\n",
      "8/8 [==============================] - 0s 4ms/step - loss: 22.3457 - mae: 22.3457 - val_loss: 22.9234 - val_mae: 22.9234\n",
      "Epoch 5/50\n",
      "8/8 [==============================] - 0s 5ms/step - loss: 22.3458 - mae: 22.3458 - val_loss: 22.9234 - val_mae: 22.9234\n",
      "Epoch 6/50\n",
      "8/8 [==============================] - 0s 5ms/step - loss: 22.3457 - mae: 22.3457 - val_loss: 22.9234 - val_mae: 22.9234\n",
      "Epoch 7/50\n",
      "8/8 [==============================] - 0s 5ms/step - loss: 22.3457 - mae: 22.3457 - val_loss: 22.9234 - val_mae: 22.9234\n",
      "Epoch 8/50\n",
      "8/8 [==============================] - 0s 5ms/step - loss: 22.3458 - mae: 22.3458 - val_loss: 22.9234 - val_mae: 22.9234\n",
      "Epoch 9/50\n",
      "8/8 [==============================] - 0s 5ms/step - loss: 22.3458 - mae: 22.3458 - val_loss: 22.9234 - val_mae: 22.9234\n",
      "Epoch 10/50\n",
      "8/8 [==============================] - 0s 5ms/step - loss: 22.3457 - mae: 22.3457 - val_loss: 22.9234 - val_mae: 22.9234\n",
      "Epoch 11/50\n",
      "8/8 [==============================] - 0s 4ms/step - loss: 22.3457 - mae: 22.3457 - val_loss: 22.9234 - val_mae: 22.9234\n",
      "Epoch 12/50\n",
      "8/8 [==============================] - 0s 4ms/step - loss: 22.3457 - mae: 22.3457 - val_loss: 22.9234 - val_mae: 22.9234\n",
      "Epoch 13/50\n",
      "8/8 [==============================] - 0s 4ms/step - loss: 22.3457 - mae: 22.3457 - val_loss: 22.9234 - val_mae: 22.9234\n",
      "Epoch 14/50\n",
      "8/8 [==============================] - 0s 4ms/step - loss: 22.3458 - mae: 22.3458 - val_loss: 22.9234 - val_mae: 22.9234\n",
      "Epoch 15/50\n",
      "8/8 [==============================] - 0s 4ms/step - loss: 22.3457 - mae: 22.3457 - val_loss: 22.9234 - val_mae: 22.9234\n",
      "Epoch 16/50\n",
      "8/8 [==============================] - 0s 5ms/step - loss: 22.3458 - mae: 22.3458 - val_loss: 22.9234 - val_mae: 22.9234\n",
      "Epoch 17/50\n",
      "8/8 [==============================] - 0s 4ms/step - loss: 22.3457 - mae: 22.3457 - val_loss: 22.9234 - val_mae: 22.9234\n",
      "Epoch 18/50\n",
      "8/8 [==============================] - 0s 4ms/step - loss: 22.3457 - mae: 22.3457 - val_loss: 22.9234 - val_mae: 22.9234\n",
      "Epoch 19/50\n",
      "8/8 [==============================] - 0s 4ms/step - loss: 22.3457 - mae: 22.3457 - val_loss: 22.9234 - val_mae: 22.9234\n",
      "Epoch 20/50\n",
      "8/8 [==============================] - 0s 4ms/step - loss: 22.3457 - mae: 22.3457 - val_loss: 22.9234 - val_mae: 22.9234\n",
      "Epoch 21/50\n",
      "8/8 [==============================] - 0s 4ms/step - loss: 22.3457 - mae: 22.3457 - val_loss: 22.9234 - val_mae: 22.9234\n",
      "Epoch 22/50\n",
      "8/8 [==============================] - 0s 4ms/step - loss: 22.3457 - mae: 22.3457 - val_loss: 22.9234 - val_mae: 22.9234\n",
      "Epoch 23/50\n",
      "8/8 [==============================] - 0s 4ms/step - loss: 22.3457 - mae: 22.3457 - val_loss: 22.9234 - val_mae: 22.9234\n",
      "Epoch 24/50\n",
      "8/8 [==============================] - 0s 4ms/step - loss: 22.3458 - mae: 22.3458 - val_loss: 22.9234 - val_mae: 22.9234\n",
      "Epoch 25/50\n",
      "8/8 [==============================] - 0s 4ms/step - loss: 22.3457 - mae: 22.3457 - val_loss: 22.9234 - val_mae: 22.9234\n",
      "Epoch 26/50\n",
      "8/8 [==============================] - 0s 4ms/step - loss: 22.3457 - mae: 22.3457 - val_loss: 22.9234 - val_mae: 22.9234\n",
      "Epoch 27/50\n",
      "8/8 [==============================] - 0s 4ms/step - loss: 22.3457 - mae: 22.3457 - val_loss: 22.9234 - val_mae: 22.9234\n",
      "Epoch 28/50\n",
      "8/8 [==============================] - 0s 4ms/step - loss: 22.3457 - mae: 22.3457 - val_loss: 22.9234 - val_mae: 22.9234\n",
      "Epoch 29/50\n",
      "8/8 [==============================] - 0s 4ms/step - loss: 22.3458 - mae: 22.3458 - val_loss: 22.9234 - val_mae: 22.9234\n",
      "Epoch 30/50\n",
      "8/8 [==============================] - 0s 4ms/step - loss: 22.3457 - mae: 22.3457 - val_loss: 22.9234 - val_mae: 22.9234\n",
      "Epoch 31/50\n",
      "8/8 [==============================] - 0s 4ms/step - loss: 22.3457 - mae: 22.3457 - val_loss: 22.9234 - val_mae: 22.9234\n",
      "Epoch 32/50\n",
      "8/8 [==============================] - 0s 5ms/step - loss: 22.3457 - mae: 22.3457 - val_loss: 22.9234 - val_mae: 22.9234\n",
      "Epoch 33/50\n",
      "8/8 [==============================] - 0s 4ms/step - loss: 22.3457 - mae: 22.3457 - val_loss: 22.9234 - val_mae: 22.9234\n",
      "Epoch 34/50\n",
      "8/8 [==============================] - 0s 6ms/step - loss: 22.3457 - mae: 22.3457 - val_loss: 22.9234 - val_mae: 22.9234\n",
      "Epoch 35/50\n",
      "8/8 [==============================] - 0s 4ms/step - loss: 22.3457 - mae: 22.3457 - val_loss: 22.9234 - val_mae: 22.9234\n",
      "Epoch 36/50\n",
      "8/8 [==============================] - 0s 4ms/step - loss: 22.3457 - mae: 22.3457 - val_loss: 22.9234 - val_mae: 22.9234\n",
      "Epoch 37/50\n",
      "8/8 [==============================] - 0s 4ms/step - loss: 22.3458 - mae: 22.3458 - val_loss: 22.9234 - val_mae: 22.9234\n",
      "Epoch 38/50\n",
      "8/8 [==============================] - 0s 5ms/step - loss: 22.3458 - mae: 22.3458 - val_loss: 22.9234 - val_mae: 22.9234\n",
      "Epoch 39/50\n",
      "8/8 [==============================] - 0s 4ms/step - loss: 22.3458 - mae: 22.3458 - val_loss: 22.9234 - val_mae: 22.9234\n",
      "Epoch 40/50\n",
      "8/8 [==============================] - 0s 5ms/step - loss: 22.3457 - mae: 22.3457 - val_loss: 22.9234 - val_mae: 22.9234\n",
      "Epoch 41/50\n",
      "8/8 [==============================] - 0s 4ms/step - loss: 22.3457 - mae: 22.3457 - val_loss: 22.9234 - val_mae: 22.9234\n",
      "Epoch 42/50\n",
      "8/8 [==============================] - 0s 4ms/step - loss: 22.3457 - mae: 22.3457 - val_loss: 22.9234 - val_mae: 22.9234\n",
      "Epoch 43/50\n",
      "8/8 [==============================] - 0s 4ms/step - loss: 22.3458 - mae: 22.3458 - val_loss: 22.9234 - val_mae: 22.9234\n",
      "Epoch 44/50\n",
      "8/8 [==============================] - 0s 4ms/step - loss: 22.3458 - mae: 22.3458 - val_loss: 22.9234 - val_mae: 22.9234\n",
      "Epoch 45/50\n",
      "8/8 [==============================] - 0s 4ms/step - loss: 22.3457 - mae: 22.3457 - val_loss: 22.9234 - val_mae: 22.9234\n",
      "Epoch 46/50\n",
      "8/8 [==============================] - 0s 4ms/step - loss: 22.3457 - mae: 22.3457 - val_loss: 22.9234 - val_mae: 22.9234\n",
      "Epoch 47/50\n",
      "8/8 [==============================] - 0s 4ms/step - loss: 22.3458 - mae: 22.3458 - val_loss: 22.9234 - val_mae: 22.9234\n",
      "Epoch 48/50\n",
      "8/8 [==============================] - 0s 5ms/step - loss: 22.3457 - mae: 22.3457 - val_loss: 22.9234 - val_mae: 22.9234\n",
      "Epoch 49/50\n",
      "8/8 [==============================] - 0s 5ms/step - loss: 22.3458 - mae: 22.3458 - val_loss: 22.9234 - val_mae: 22.9234\n",
      "Epoch 50/50\n",
      "8/8 [==============================] - 0s 5ms/step - loss: 22.3457 - mae: 22.3457 - val_loss: 22.9234 - val_mae: 22.9234\n",
      "5/5 [==============================] - 0s 1ms/step\n"
     ]
    }
   ],
   "source": [
    "model.compile(optimizer = 'adam', loss = 'mae', metrics = ['mae'])\n",
    "#Train\n",
    "history = model.fit(X_train, y_train, epochs = 50, batch_size = 32, validation_split = 0.3, verbose = 1)\n",
    "\n",
    "#Evaluate\n",
    "# loss, mae = model.evaluate(X_test_scaled, y_test)\n",
    "# print(\"\\nMAE: \", mae)\n",
    "\n",
    "#Predict\n",
    "y_pred = model.predict(X_test)"
   ]
  },
  {
   "cell_type": "code",
   "execution_count": 14,
   "metadata": {},
   "outputs": [
    {
     "data": {
      "text/plain": [
       "22.561842105263157"
      ]
     },
     "execution_count": 14,
     "metadata": {},
     "output_type": "execute_result"
    }
   ],
   "source": [
    "mae = mean_absolute_error(y_pred, y_test)\n",
    "mae"
   ]
  },
  {
   "cell_type": "code",
   "execution_count": 15,
   "metadata": {},
   "outputs": [
    {
     "data": {
      "text/plain": [
       "593.41"
      ]
     },
     "execution_count": 15,
     "metadata": {},
     "output_type": "execute_result"
    }
   ],
   "source": [
    "mse = mean_squared_error(y_pred, y_test)\n",
    "mse"
   ]
  },
  {
   "cell_type": "code",
   "execution_count": null,
   "metadata": {},
   "outputs": [],
   "source": []
  },
  {
   "cell_type": "code",
   "execution_count": null,
   "metadata": {},
   "outputs": [],
   "source": []
  },
  {
   "cell_type": "code",
   "execution_count": 1,
   "metadata": {},
   "outputs": [],
   "source": [
    "import pandas as pd\n",
    "from sklearn.preprocessing import StandardScaler\n",
    "from sklearn.model_selection import train_test_split\n",
    "from sklearn.impute import SimpleImputer\n",
    "from sklearn.metrics import mean_absolute_error, mean_squared_error\n",
    "\n",
    "from tensorflow.keras.models import Sequential\n",
    "from tensorflow.keras.layers import Dense"
   ]
  },
  {
   "cell_type": "code",
   "execution_count": 2,
   "metadata": {},
   "outputs": [],
   "source": [
    "df = pd.read_csv('HousingData.csv')"
   ]
  },
  {
   "cell_type": "code",
   "execution_count": 3,
   "metadata": {},
   "outputs": [
    {
     "name": "stdout",
     "output_type": "stream",
     "text": [
      "<class 'pandas.core.frame.DataFrame'>\n",
      "RangeIndex: 506 entries, 0 to 505\n",
      "Data columns (total 14 columns):\n",
      " #   Column   Non-Null Count  Dtype  \n",
      "---  ------   --------------  -----  \n",
      " 0   CRIM     486 non-null    float64\n",
      " 1   ZN       486 non-null    float64\n",
      " 2   INDUS    486 non-null    float64\n",
      " 3   CHAS     486 non-null    float64\n",
      " 4   NOX      506 non-null    float64\n",
      " 5   RM       506 non-null    float64\n",
      " 6   AGE      486 non-null    float64\n",
      " 7   DIS      506 non-null    float64\n",
      " 8   RAD      506 non-null    int64  \n",
      " 9   TAX      506 non-null    int64  \n",
      " 10  PTRATIO  506 non-null    float64\n",
      " 11  B        506 non-null    float64\n",
      " 12  LSTAT    486 non-null    float64\n",
      " 13  MEDV     506 non-null    float64\n",
      "dtypes: float64(12), int64(2)\n",
      "memory usage: 55.5 KB\n"
     ]
    }
   ],
   "source": [
    "df.info()"
   ]
  },
  {
   "cell_type": "code",
   "execution_count": 4,
   "metadata": {},
   "outputs": [],
   "source": [
    "imputer = SimpleImputer(strategy='median')\n",
    "df[df.columns] = imputer.fit_transform(df)"
   ]
  },
  {
   "cell_type": "code",
   "execution_count": 6,
   "metadata": {},
   "outputs": [
    {
     "name": "stdout",
     "output_type": "stream",
     "text": [
      "<class 'pandas.core.frame.DataFrame'>\n",
      "RangeIndex: 506 entries, 0 to 505\n",
      "Data columns (total 14 columns):\n",
      " #   Column   Non-Null Count  Dtype  \n",
      "---  ------   --------------  -----  \n",
      " 0   CRIM     506 non-null    float64\n",
      " 1   ZN       506 non-null    float64\n",
      " 2   INDUS    506 non-null    float64\n",
      " 3   CHAS     506 non-null    float64\n",
      " 4   NOX      506 non-null    float64\n",
      " 5   RM       506 non-null    float64\n",
      " 6   AGE      506 non-null    float64\n",
      " 7   DIS      506 non-null    float64\n",
      " 8   RAD      506 non-null    float64\n",
      " 9   TAX      506 non-null    float64\n",
      " 10  PTRATIO  506 non-null    float64\n",
      " 11  B        506 non-null    float64\n",
      " 12  LSTAT    506 non-null    float64\n",
      " 13  MEDV     506 non-null    float64\n",
      "dtypes: float64(14)\n",
      "memory usage: 55.5 KB\n"
     ]
    }
   ],
   "source": [
    "df.info()"
   ]
  },
  {
   "cell_type": "code",
   "execution_count": 7,
   "metadata": {},
   "outputs": [],
   "source": [
    "X = df.drop(['MEDV'], axis = 1)\n",
    "y = df[['MEDV']]"
   ]
  },
  {
   "cell_type": "code",
   "execution_count": 8,
   "metadata": {},
   "outputs": [
    {
     "name": "stdout",
     "output_type": "stream",
     "text": [
      "<class 'pandas.core.frame.DataFrame'>\n",
      "RangeIndex: 506 entries, 0 to 505\n",
      "Data columns (total 13 columns):\n",
      " #   Column   Non-Null Count  Dtype  \n",
      "---  ------   --------------  -----  \n",
      " 0   CRIM     506 non-null    float64\n",
      " 1   ZN       506 non-null    float64\n",
      " 2   INDUS    506 non-null    float64\n",
      " 3   CHAS     506 non-null    float64\n",
      " 4   NOX      506 non-null    float64\n",
      " 5   RM       506 non-null    float64\n",
      " 6   AGE      506 non-null    float64\n",
      " 7   DIS      506 non-null    float64\n",
      " 8   RAD      506 non-null    float64\n",
      " 9   TAX      506 non-null    float64\n",
      " 10  PTRATIO  506 non-null    float64\n",
      " 11  B        506 non-null    float64\n",
      " 12  LSTAT    506 non-null    float64\n",
      "dtypes: float64(13)\n",
      "memory usage: 51.5 KB\n"
     ]
    }
   ],
   "source": [
    "X.info()"
   ]
  },
  {
   "cell_type": "code",
   "execution_count": 9,
   "metadata": {},
   "outputs": [
    {
     "name": "stdout",
     "output_type": "stream",
     "text": [
      "<class 'pandas.core.frame.DataFrame'>\n",
      "RangeIndex: 506 entries, 0 to 505\n",
      "Data columns (total 1 columns):\n",
      " #   Column  Non-Null Count  Dtype  \n",
      "---  ------  --------------  -----  \n",
      " 0   MEDV    506 non-null    float64\n",
      "dtypes: float64(1)\n",
      "memory usage: 4.1 KB\n"
     ]
    }
   ],
   "source": [
    "y.info()"
   ]
  },
  {
   "cell_type": "code",
   "execution_count": 10,
   "metadata": {},
   "outputs": [],
   "source": [
    "X_train, X_test, y_train, y_test = train_test_split(X, y, train_size=0.7)"
   ]
  },
  {
   "cell_type": "code",
   "execution_count": 12,
   "metadata": {},
   "outputs": [],
   "source": [
    "model = Sequential([\n",
    "    Dense(64, activation = \"relu\", input_shape = (X_train.shape[1], )),\n",
    "    Dense(16, activation = \"relu\"),\n",
    "    Dense(1, activation = \"relu\")\n",
    "])"
   ]
  },
  {
   "cell_type": "code",
   "execution_count": 15,
   "metadata": {},
   "outputs": [
    {
     "name": "stdout",
     "output_type": "stream",
     "text": [
      "Epoch 1/50\n",
      "8/8 [==============================] - 1s 18ms/step - loss: 4.9445 - mae: 4.9445 - val_loss: 4.6884 - val_mae: 4.6884\n",
      "Epoch 2/50\n",
      "8/8 [==============================] - 0s 4ms/step - loss: 4.6249 - mae: 4.6249 - val_loss: 4.6536 - val_mae: 4.6536\n",
      "Epoch 3/50\n",
      "8/8 [==============================] - 0s 4ms/step - loss: 4.5101 - mae: 4.5101 - val_loss: 4.5367 - val_mae: 4.5367\n",
      "Epoch 4/50\n",
      "8/8 [==============================] - 0s 5ms/step - loss: 4.4667 - mae: 4.4667 - val_loss: 4.7534 - val_mae: 4.7534\n",
      "Epoch 5/50\n",
      "8/8 [==============================] - 0s 4ms/step - loss: 4.5786 - mae: 4.5786 - val_loss: 4.6732 - val_mae: 4.6732\n",
      "Epoch 6/50\n",
      "8/8 [==============================] - 0s 4ms/step - loss: 4.4431 - mae: 4.4431 - val_loss: 4.5680 - val_mae: 4.5680\n",
      "Epoch 7/50\n",
      "8/8 [==============================] - 0s 4ms/step - loss: 4.5522 - mae: 4.5522 - val_loss: 4.6338 - val_mae: 4.6338\n",
      "Epoch 8/50\n",
      "8/8 [==============================] - 0s 4ms/step - loss: 4.4230 - mae: 4.4230 - val_loss: 4.5855 - val_mae: 4.5855\n",
      "Epoch 9/50\n",
      "8/8 [==============================] - 0s 4ms/step - loss: 4.4480 - mae: 4.4480 - val_loss: 4.5986 - val_mae: 4.5986\n",
      "Epoch 10/50\n",
      "8/8 [==============================] - 0s 5ms/step - loss: 4.4237 - mae: 4.4237 - val_loss: 4.5691 - val_mae: 4.5691\n",
      "Epoch 11/50\n",
      "8/8 [==============================] - 0s 5ms/step - loss: 4.3799 - mae: 4.3799 - val_loss: 4.5445 - val_mae: 4.5445\n",
      "Epoch 12/50\n",
      "8/8 [==============================] - 0s 6ms/step - loss: 4.3732 - mae: 4.3732 - val_loss: 4.5788 - val_mae: 4.5788\n",
      "Epoch 13/50\n",
      "8/8 [==============================] - 0s 5ms/step - loss: 4.3408 - mae: 4.3408 - val_loss: 4.4992 - val_mae: 4.4992\n",
      "Epoch 14/50\n",
      "8/8 [==============================] - 0s 5ms/step - loss: 4.4021 - mae: 4.4021 - val_loss: 4.5707 - val_mae: 4.5707\n",
      "Epoch 15/50\n",
      "8/8 [==============================] - 0s 5ms/step - loss: 4.4485 - mae: 4.4485 - val_loss: 4.5731 - val_mae: 4.5731\n",
      "Epoch 16/50\n",
      "8/8 [==============================] - 0s 4ms/step - loss: 4.3802 - mae: 4.3802 - val_loss: 4.6007 - val_mae: 4.6007\n",
      "Epoch 17/50\n",
      "8/8 [==============================] - 0s 5ms/step - loss: 4.3571 - mae: 4.3571 - val_loss: 4.4363 - val_mae: 4.4363\n",
      "Epoch 18/50\n",
      "8/8 [==============================] - 0s 5ms/step - loss: 4.5086 - mae: 4.5086 - val_loss: 4.6452 - val_mae: 4.6452\n",
      "Epoch 19/50\n",
      "8/8 [==============================] - 0s 8ms/step - loss: 4.4775 - mae: 4.4775 - val_loss: 4.4840 - val_mae: 4.4840\n",
      "Epoch 20/50\n",
      "8/8 [==============================] - 0s 6ms/step - loss: 4.2240 - mae: 4.2240 - val_loss: 4.4505 - val_mae: 4.4505\n",
      "Epoch 21/50\n",
      "8/8 [==============================] - 0s 5ms/step - loss: 4.2334 - mae: 4.2334 - val_loss: 4.5919 - val_mae: 4.5919\n",
      "Epoch 22/50\n",
      "8/8 [==============================] - 0s 4ms/step - loss: 4.2338 - mae: 4.2338 - val_loss: 4.5056 - val_mae: 4.5056\n",
      "Epoch 23/50\n",
      "8/8 [==============================] - 0s 5ms/step - loss: 4.3505 - mae: 4.3505 - val_loss: 4.4165 - val_mae: 4.4165\n",
      "Epoch 24/50\n",
      "8/8 [==============================] - 0s 5ms/step - loss: 4.3940 - mae: 4.3940 - val_loss: 4.4831 - val_mae: 4.4831\n",
      "Epoch 25/50\n",
      "8/8 [==============================] - 0s 5ms/step - loss: 4.2824 - mae: 4.2824 - val_loss: 4.3974 - val_mae: 4.3974\n",
      "Epoch 26/50\n",
      "8/8 [==============================] - 0s 5ms/step - loss: 4.2714 - mae: 4.2714 - val_loss: 4.6206 - val_mae: 4.6206\n",
      "Epoch 27/50\n",
      "8/8 [==============================] - 0s 5ms/step - loss: 4.3749 - mae: 4.3749 - val_loss: 4.4136 - val_mae: 4.4136\n",
      "Epoch 28/50\n",
      "8/8 [==============================] - 0s 5ms/step - loss: 4.1490 - mae: 4.1490 - val_loss: 4.3743 - val_mae: 4.3743\n",
      "Epoch 29/50\n",
      "8/8 [==============================] - 0s 5ms/step - loss: 4.1499 - mae: 4.1499 - val_loss: 4.3653 - val_mae: 4.3653\n",
      "Epoch 30/50\n",
      "8/8 [==============================] - 0s 5ms/step - loss: 4.1783 - mae: 4.1783 - val_loss: 4.3882 - val_mae: 4.3882\n",
      "Epoch 31/50\n",
      "8/8 [==============================] - 0s 5ms/step - loss: 4.1807 - mae: 4.1807 - val_loss: 4.3617 - val_mae: 4.3617\n",
      "Epoch 32/50\n",
      "8/8 [==============================] - 0s 4ms/step - loss: 4.1147 - mae: 4.1147 - val_loss: 4.3976 - val_mae: 4.3976\n",
      "Epoch 33/50\n",
      "8/8 [==============================] - 0s 5ms/step - loss: 4.1154 - mae: 4.1154 - val_loss: 4.4145 - val_mae: 4.4145\n",
      "Epoch 34/50\n",
      "8/8 [==============================] - 0s 5ms/step - loss: 4.1039 - mae: 4.1039 - val_loss: 4.3508 - val_mae: 4.3508\n",
      "Epoch 35/50\n",
      "8/8 [==============================] - 0s 5ms/step - loss: 4.0785 - mae: 4.0785 - val_loss: 4.4303 - val_mae: 4.4303\n",
      "Epoch 36/50\n",
      "8/8 [==============================] - 0s 5ms/step - loss: 4.1654 - mae: 4.1654 - val_loss: 4.3560 - val_mae: 4.3560\n",
      "Epoch 37/50\n",
      "8/8 [==============================] - 0s 5ms/step - loss: 4.1378 - mae: 4.1378 - val_loss: 4.3578 - val_mae: 4.3578\n",
      "Epoch 38/50\n",
      "8/8 [==============================] - 0s 4ms/step - loss: 4.1166 - mae: 4.1166 - val_loss: 4.3699 - val_mae: 4.3699\n",
      "Epoch 39/50\n",
      "8/8 [==============================] - 0s 5ms/step - loss: 4.1408 - mae: 4.1408 - val_loss: 4.3368 - val_mae: 4.3368\n",
      "Epoch 40/50\n",
      "8/8 [==============================] - 0s 5ms/step - loss: 4.3206 - mae: 4.3206 - val_loss: 4.3702 - val_mae: 4.3702\n",
      "Epoch 41/50\n",
      "8/8 [==============================] - 0s 5ms/step - loss: 4.3731 - mae: 4.3731 - val_loss: 4.6475 - val_mae: 4.6475\n",
      "Epoch 42/50\n",
      "8/8 [==============================] - 0s 5ms/step - loss: 4.2131 - mae: 4.2131 - val_loss: 4.2823 - val_mae: 4.2823\n",
      "Epoch 43/50\n",
      "8/8 [==============================] - 0s 5ms/step - loss: 4.0482 - mae: 4.0482 - val_loss: 4.2952 - val_mae: 4.2952\n",
      "Epoch 44/50\n",
      "8/8 [==============================] - 0s 5ms/step - loss: 4.1551 - mae: 4.1551 - val_loss: 4.4619 - val_mae: 4.4619\n",
      "Epoch 45/50\n",
      "8/8 [==============================] - 0s 6ms/step - loss: 4.2414 - mae: 4.2414 - val_loss: 4.4302 - val_mae: 4.4302\n",
      "Epoch 46/50\n",
      "8/8 [==============================] - 0s 5ms/step - loss: 4.1656 - mae: 4.1656 - val_loss: 4.3151 - val_mae: 4.3151\n",
      "Epoch 47/50\n",
      "8/8 [==============================] - 0s 5ms/step - loss: 4.1480 - mae: 4.1480 - val_loss: 4.4663 - val_mae: 4.4663\n",
      "Epoch 48/50\n",
      "8/8 [==============================] - 0s 5ms/step - loss: 4.0225 - mae: 4.0225 - val_loss: 4.3026 - val_mae: 4.3026\n",
      "Epoch 49/50\n",
      "8/8 [==============================] - 0s 5ms/step - loss: 3.9840 - mae: 3.9840 - val_loss: 4.2188 - val_mae: 4.2188\n",
      "Epoch 50/50\n",
      "8/8 [==============================] - 0s 5ms/step - loss: 4.0948 - mae: 4.0948 - val_loss: 4.2723 - val_mae: 4.2723\n",
      "5/5 [==============================] - 0s 1ms/step\n"
     ]
    }
   ],
   "source": [
    "model.compile(optimizer=\"adam\", loss = \"mae\", metrics = [\"mae\"])\n",
    "model.fit(X_train, y_train, epochs=50, batch_size=32, verbose=1, validation_split = 0.3)\n",
    "y_pred = model.predict(X_test)"
   ]
  },
  {
   "cell_type": "code",
   "execution_count": 16,
   "metadata": {},
   "outputs": [
    {
     "data": {
      "text/plain": [
       "3.8280307289801145"
      ]
     },
     "execution_count": 16,
     "metadata": {},
     "output_type": "execute_result"
    }
   ],
   "source": [
    "mae = mean_absolute_error(y_pred, y_test)\n",
    "mae"
   ]
  },
  {
   "cell_type": "code",
   "execution_count": 18,
   "metadata": {},
   "outputs": [
    {
     "data": {
      "text/plain": [
       "32.28121897691149"
      ]
     },
     "execution_count": 18,
     "metadata": {},
     "output_type": "execute_result"
    }
   ],
   "source": [
    "mse = mean_squared_error(y_pred, y_test)\n",
    "mse"
   ]
  },
  {
   "cell_type": "code",
   "execution_count": null,
   "metadata": {},
   "outputs": [],
   "source": []
  }
 ],
 "metadata": {
  "colab": {
   "authorship_tag": "ABX9TyM6fr4YI9227FfRQkd/w+Dh",
   "provenance": []
  },
  "kernelspec": {
   "display_name": "Python 3 (ipykernel)",
   "language": "python",
   "name": "python3"
  },
  "language_info": {
   "codemirror_mode": {
    "name": "ipython",
    "version": 3
   },
   "file_extension": ".py",
   "mimetype": "text/x-python",
   "name": "python",
   "nbconvert_exporter": "python",
   "pygments_lexer": "ipython3",
   "version": "3.11.3"
  }
 },
 "nbformat": 4,
 "nbformat_minor": 1
}
